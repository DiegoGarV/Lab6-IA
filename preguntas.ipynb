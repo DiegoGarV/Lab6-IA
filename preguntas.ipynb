{
 "cells": [
  {
   "cell_type": "markdown",
   "metadata": {},
   "source": [
    "# Laboratorio 6\n",
    "\n",
    "## Task 1\n",
    "\n",
    "1. **En un juego de suma cero para dos jugadores, ¿cómo funciona el algoritmo minimax para determinar la estrategia óptima para cada jugador? ¿Puede explicarnos el concepto de \"valor minimax\" y su importancia en este contexto?**<br>\n",
    "El minimax en un juego de suma cero para dos jugadores funciona a traves de un árbol de caza. En este árbol, cada nodo es un estado y las ramas son acciones y los nodos de estado final tienen un valor. Un mayor valor indica más ganancias, por lo que se busca que quien está usando el algoritmo maximice sus ganancias y, al mismo tiempo, minimice las de su oponente. Sin embargo, para que el algoritmo funcione, ambas partes deben estar jugando de la forma más óptima posible. Es importante para la IA en juegos, ya que le permite tomar las mejores decisiones para derrotar a su rival.\n",
    "\n",
    "2. **Compare y contraste el algoritmo minimax con la poda alfa-beta. ¿Cómo mejora la poda alfa-beta la eficiencia del algoritmo minimax, particularmente en árboles de caza grandes? Proporcione un ejemplo para ilustrar la diferencia en la complejidad computacional entre la poda minimax y alfa-beta.**<br>\n",
    "Como mencioné antes, minimax usa árboles de caza para su correcto funcionamiento. Sin embargo, existe la posibilidad de que estos sean demasiado grandes y evaluar cada posibilidad se vuelva muy costoso. Aquí es donde entra la poda alfa-beta, ya que como su nombre lo indica, se encarga de cortar las ramas inecesarias del árbol. Esto lo hace con sus valores alfa (MAX) y beta (MIN), asegurando que estos se mantengan y por lo tanto que el resultado final no cambie. Por ejemplo, supongamos que tenemos un árbol que tiene sus penúltimos nodos como MIN y los nodo terminales son 3,5,2 y 6 en ese órden. Primero escogerá el menor entre 3 y 5 y tomará 3. Luego al irse del otro lado evaluará 2. Como este es menor a tres lo tomará como mínimo y ya no necesita seguir evaluando (Poda la rama que lleva a 6). Por lo tanto, su complejidad se reduce en un nivel, pero en realidad vimos solo la mitad de los resultados de ese segundo nodo. Eso significa que en el mejor de los casos solo veríamos la mitad de todos los terminales y por lo tanto cortando a la mitad el tiempo de ejecución. \n",
    "\n",
    "3. **¿Cuál es el papel de expectiminimax en juegos con incertidumbre, como aquellos que involucran nodos de azar o información oculta? ¿En qué se diferencia el expectiminimax del minimax en el manejo de resultados probabilísticos y cuáles son los desafíos clave que aborda?**\n",
    "Expectiminimax es un algoritmo que sirve como extensión del minimax y se utiliza para juegos donde hay eventos aleatorios. En lugar de solo tener los nodos MAX y MIN también incluye nodos AZAR. En estos nuevos nodos, la decisión depende de la probabilidad que tiene cada acción de suceder. Esto lo hace multiplicando la probabilidad del terminal con el terminal, por cada terminal y sumando esas multiplicaciones. MIN y MAX funcionan de la misma forma. Sin embargo, al tener ese nuevo nodo donde se debe hacer una operación se le agrega complejidad a algoritmo, haciendolo más costoso. También pasa que en juegos con mucha información oculta, encontrar la probabilidad exacta se vuelve muy difícil.\n"
   ]
  }
 ],
 "metadata": {
  "language_info": {
   "name": "python"
  }
 },
 "nbformat": 4,
 "nbformat_minor": 2
}
